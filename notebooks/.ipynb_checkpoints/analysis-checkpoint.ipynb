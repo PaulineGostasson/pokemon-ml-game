{
 "cells": [
  {
   "cell_type": "code",
   "execution_count": null,
   "id": "8eac7485-2ce8-406b-9edb-30188e8be00f",
   "metadata": {},
   "outputs": [
    {
     "data": {
      "text/plain": [
       "(751, 13)"
      ]
     },
     "execution_count": 18,
     "metadata": {},
     "output_type": "execute_result"
    }
   ],
   "source": [
    "import pandas as pd\n",
    "\n",
    "# Load dataset\n",
    "df = pd.read_csv(\"data/Pokemon.csv\")\n",
    "\n",
    "# Remove Mega evolutions cause theyre to OP\n",
    "df = df[~df[\"Name\"].str.contains(\"Mega\", na=False)]\n",
    "\n",
    "# Drop rows with missing values in essential columns\n",
    "df = df.dropna(subset=[\"Type 1\", \"HP\", \"Attack\", \"Defense\", \"Sp. Atk\", \"Sp. Def\", \"Speed\"])\n",
    "\n",
    "# Convert the Legendary column to a numeric value (True = 1, False = 0)\n",
    "df[\"Legendary\"] = df[\"Legendary\"].astype(int)\n",
    "\n",
    "# Show the number of rows and columns in the dataset\n",
    "print(\"Dataset shape (rows, columns):\", df.shape)\n",
    "\n",
    "# Display info about columns and datatypes\n",
    "df.info()"
   ]
  },
  {
   "cell_type": "code",
   "execution_count": null,
   "id": "8414f38f",
   "metadata": {},
   "outputs": [
    {
     "data": {
      "text/html": [
       "<div>\n",
       "<style scoped>\n",
       "    .dataframe tbody tr th:only-of-type {\n",
       "        vertical-align: middle;\n",
       "    }\n",
       "\n",
       "    .dataframe tbody tr th {\n",
       "        vertical-align: top;\n",
       "    }\n",
       "\n",
       "    .dataframe thead th {\n",
       "        text-align: right;\n",
       "    }\n",
       "</style>\n",
       "<table border=\"1\" class=\"dataframe\">\n",
       "  <thead>\n",
       "    <tr style=\"text-align: right;\">\n",
       "      <th></th>\n",
       "      <th>Name</th>\n",
       "      <th>Type 1</th>\n",
       "      <th>HP</th>\n",
       "      <th>TotalStats</th>\n",
       "      <th>Legendary</th>\n",
       "    </tr>\n",
       "  </thead>\n",
       "  <tbody>\n",
       "    <tr>\n",
       "      <th>0</th>\n",
       "      <td>Bulbasaur</td>\n",
       "      <td>Grass</td>\n",
       "      <td>45</td>\n",
       "      <td>318</td>\n",
       "      <td>0</td>\n",
       "    </tr>\n",
       "    <tr>\n",
       "      <th>1</th>\n",
       "      <td>Ivysaur</td>\n",
       "      <td>Grass</td>\n",
       "      <td>60</td>\n",
       "      <td>405</td>\n",
       "      <td>0</td>\n",
       "    </tr>\n",
       "    <tr>\n",
       "      <th>2</th>\n",
       "      <td>Venusaur</td>\n",
       "      <td>Grass</td>\n",
       "      <td>80</td>\n",
       "      <td>525</td>\n",
       "      <td>0</td>\n",
       "    </tr>\n",
       "    <tr>\n",
       "      <th>4</th>\n",
       "      <td>Charmander</td>\n",
       "      <td>Fire</td>\n",
       "      <td>39</td>\n",
       "      <td>309</td>\n",
       "      <td>0</td>\n",
       "    </tr>\n",
       "    <tr>\n",
       "      <th>5</th>\n",
       "      <td>Charmeleon</td>\n",
       "      <td>Fire</td>\n",
       "      <td>58</td>\n",
       "      <td>405</td>\n",
       "      <td>0</td>\n",
       "    </tr>\n",
       "  </tbody>\n",
       "</table>\n",
       "</div>"
      ],
      "text/plain": [
       "         Name Type 1  HP  TotalStats  Legendary\n",
       "0   Bulbasaur  Grass  45         318          0\n",
       "1     Ivysaur  Grass  60         405          0\n",
       "2    Venusaur  Grass  80         525          0\n",
       "4  Charmander   Fire  39         309          0\n",
       "5  Charmeleon   Fire  58         405          0"
      ]
     },
     "execution_count": 19,
     "metadata": {},
     "output_type": "execute_result"
    }
   ],
   "source": [
    "# Add total stat sum\n",
    "df[\"TotalStats\"] = df[\"HP\"] + df[\"Attack\"] + df[\"Defense\"] + df[\"Sp. Atk\"] + df[\"Sp. Def\"] + df[\"Speed\"]\n",
    "\n",
    "# Change Legendary from True/False to 1/0 so the model can understand it\n",
    "df[\"Legendary\"] = df[\"Legendary\"].astype(int)\n",
    "\n",
    "df[[\"Name\", \"Type 1\", \"HP\", \"TotalStats\", \"Legendary\"]].head()\n"
   ]
  },
  {
   "cell_type": "code",
   "execution_count": 20,
   "id": "3aad9f8a-0eec-488c-9ee0-dc9b3c5bb679",
   "metadata": {
    "scrolled": true
   },
   "outputs": [
    {
     "name": "stdout",
     "output_type": "stream",
     "text": [
      "<class 'pandas.core.frame.DataFrame'>\n",
      "Index: 751 entries, 0 to 799\n",
      "Data columns (total 14 columns):\n",
      " #   Column      Non-Null Count  Dtype \n",
      "---  ------      --------------  ----- \n",
      " 0   #           751 non-null    int64 \n",
      " 1   Name        751 non-null    object\n",
      " 2   Type 1      751 non-null    object\n",
      " 3   Type 2      375 non-null    object\n",
      " 4   Total       751 non-null    int64 \n",
      " 5   HP          751 non-null    int64 \n",
      " 6   Attack      751 non-null    int64 \n",
      " 7   Defense     751 non-null    int64 \n",
      " 8   Sp. Atk     751 non-null    int64 \n",
      " 9   Sp. Def     751 non-null    int64 \n",
      " 10  Speed       751 non-null    int64 \n",
      " 11  Generation  751 non-null    int64 \n",
      " 12  Legendary   751 non-null    int64 \n",
      " 13  TotalStats  751 non-null    int64 \n",
      "dtypes: int64(11), object(3)\n",
      "memory usage: 88.0+ KB\n"
     ]
    }
   ],
   "source": [
    "df.info()"
   ]
  },
  {
   "cell_type": "code",
   "execution_count": 21,
   "id": "f8138c45-9308-4981-abf4-d41ddb27ade1",
   "metadata": {},
   "outputs": [],
   "source": [
    "from sklearn.model_selection import train_test_split\n",
    "from sklearn.preprocessing import MinMaxScaler\n",
    "from sklearn.ensemble import GradientBoostingClassifier\n",
    "from sklearn.ensemble import RandomForestClassifier\n",
    "from sklearn.metrics import accuracy_score, classification_report\n",
    "from sklearn.model_selection import cross_val_score\n",
    "from sklearn.metrics import confusion_matrix, ConfusionMatrixDisplay\n",
    "import matplotlib.pyplot as plt\n",
    "import numpy as np\n",
    "import pickle\n",
    "import os"
   ]
  },
  {
   "cell_type": "code",
   "execution_count": null,
   "id": "fd4ae34c-283b-4eaa-8153-3fbd3d08fa47",
   "metadata": {},
   "outputs": [],
   "source": [
    "matches = []\n",
    "labels = []\n",
    "\n",
    "# Simulate 5000 battles by randomly selecting two Pokémon for each match\n",
    "# Extract key stats for both Pokémon\n",
    "for _ in range(5000):\n",
    "    p1 = df.sample(1).iloc[0]\n",
    "    p2 = df.sample(1).iloc[0]\n",
    "\n",
    "    stats1 = [p1[\"HP\"], p1[\"Attack\"], p1[\"Defense\"], p1[\"Sp. Atk\"], p1[\"Sp. Def\"], p1[\"Speed\"]]\n",
    "    stats2 = [p2[\"HP\"], p2[\"Attack\"], p2[\"Defense\"], p2[\"Sp. Atk\"], p2[\"Sp. Def\"], p2[\"Speed\"]]\n",
    "\n",
    "\n",
    "    matches.append(stats1 + stats2) # Combine stats for both pokemon\n",
    "    labels.append(0 if sum(stats1) > sum(stats2) else 1) # 0 = p1 wins, 1 = p2 wins"
   ]
  },
  {
   "cell_type": "code",
   "execution_count": null,
   "id": "7ea9d38c-b1f1-4f75-8253-c44e4cc585b6",
   "metadata": {},
   "outputs": [
    {
     "name": "stdout",
     "output_type": "stream",
     "text": [
      "Model accuracy:  0.96\n",
      "\n",
      "Classification Report:\n",
      "              precision    recall  f1-score   support\n",
      "\n",
      "           0       0.97      0.95      0.96       512\n",
      "           1       0.95      0.97      0.96       488\n",
      "\n",
      "    accuracy                           0.96      1000\n",
      "   macro avg       0.96      0.96      0.96      1000\n",
      "weighted avg       0.96      0.96      0.96      1000\n",
      "\n"
     ]
    }
   ],
   "source": [
    "# Convert the list of matches and labels into NumPy arrays\n",
    "x = np.array(matches)\n",
    "y = np.array(labels)\n",
    "\n",
    "# Normalize values\n",
    "scaler = MinMaxScaler()\n",
    "x_scaled = scaler.fit_transform(x)\n",
    "\n",
    "# Divide data into traning and testing\n",
    "x_train, x_test, y_train, y_test = train_test_split(x, y, test_size=0.2, random_state=42)\n",
    "\n",
    "# Train Model\n",
    "model = GradientBoostingClassifier(\n",
    "    n_estimators=300,\n",
    "    learning_rate=0.05,\n",
    "    max_depth=4,\n",
    "    random_state=42\n",
    ")\n",
    "model.fit(x_train, y_train)\n",
    "\n",
    "y_pred = model.predict(x_test)\n",
    "accuracy = accuracy_score(y_test, y_pred)\n",
    "print(f\"Model accuracy: {accuracy: .2f}\")\n",
    "\n",
    "# Show Report\n",
    "print(\"\\nClassification Report:\")\n",
    "print(classification_report(y_test, y_pred))"
   ]
  },
  {
   "cell_type": "code",
   "execution_count": 24,
   "id": "0171aa15",
   "metadata": {},
   "outputs": [
    {
     "name": "stdout",
     "output_type": "stream",
     "text": [
      "RandomForest Classification Report:\n",
      "              precision    recall  f1-score   support\n",
      "\n",
      "           0       0.96      0.93      0.94       512\n",
      "           1       0.93      0.96      0.94       488\n",
      "\n",
      "    accuracy                           0.94      1000\n",
      "   macro avg       0.94      0.94      0.94      1000\n",
      "weighted avg       0.94      0.94      0.94      1000\n",
      "\n"
     ]
    }
   ],
   "source": [
    "# Train a RandomForest model\n",
    "rf_model = RandomForestClassifier(n_estimators=100, random_state=42)\n",
    "rf_model.fit(x_train, y_train)\n",
    "\n",
    "# Predict and evaluate\n",
    "rf_pred = rf_model.predict(x_test)\n",
    "\n",
    "from sklearn.metrics import classification_report\n",
    "\n",
    "print(\"RandomForest Classification Report:\")\n",
    "print(classification_report(y_test, rf_pred))"
   ]
  },
  {
   "cell_type": "code",
   "execution_count": null,
   "id": "dd53735e-7d84-4e68-aff2-fce7051b8c4e",
   "metadata": {},
   "outputs": [
    {
     "name": "stdout",
     "output_type": "stream",
     "text": [
      "Cross-validation accuracy: 0.95 (+/- 0.01)\n"
     ]
    },
    {
     "data": {
      "image/png": "[encoded data removed]",
      "text/plain": [
       "<Figure size 640x480 with 2 Axes>"
      ]
     },
     "metadata": {},
     "output_type": "display_data"
    }
   ],
   "source": [
    "# Cross-validation\n",
    "cv_scores = cross_val_score(model, x_scaled, y, cv=5)\n",
    "print(f\"Cross-validation accuracy: {cv_scores.mean():.2f} (+/- {cv_scores.std():.2f})\")\n",
    "\n",
    "# Train model again\n",
    "model.fit(x_scaled, y)\n",
    "y_pred = model.predict(x_scaled)\n",
    "\n",
    "# Confusion Matrix\n",
    "cm = confusion_matrix(y, y_pred)\n",
    "disp = ConfusionMatrixDisplay(confusion_matrix=cm, display_labels=[\"Player 1 wins\", \"Player 2 wins\"])\n",
    "disp.plot(cmap=plt.cm.Blues)\n",
    "plt.title(\"Confusion Matrix\")\n",
    "plt.show()"
   ]
  },
  {
   "cell_type": "code",
   "execution_count": null,
   "id": "cbea18aa-e86a-49da-a2a9-5a22d9693154",
   "metadata": {},
   "outputs": [
    {
     "name": "stdout",
     "output_type": "stream",
     "text": [
      "Scaler saved to data/scaler.pkl\n",
      "Model saved to data/model.pkl\n"
     ]
    }
   ],
   "source": [
    "os.makedirs(\"data\", exist_ok=True)\n",
    "\n",
    "# Save model as a .pkl\n",
    "with open(\"data/model.pkl\", \"wb\") as f:\n",
    "    pickle.dump(model, f)\n",
    "\n",
    "# Save scaler\n",
    "with open(\"data/scaler.pkl\", \"wb\") as f:\n",
    "    pickle.dump(scaler, f)\n",
    "\n",
    "print(\"Scaler saved to data/scaler.pkl\")\n",
    "\n",
    "print(\"Model saved to data/model.pkl\")"
   ]
  },
  {
   "cell_type": "code",
   "execution_count": null,
   "id": "32612c93-8220-4d0f-8a60-077b6def11a6",
   "metadata": {},
   "outputs": [],
   "source": []
  }
 ],
 "metadata": {
  "kernelspec": {
   "display_name": "Python 3 (ipykernel)",
   "language": "python",
   "name": "python3"
  },
  "language_info": {
   "codemirror_mode": {
    "name": "ipython",
    "version": 3
   },
   "file_extension": ".py",
   "mimetype": "text/x-python",
   "name": "python",
   "nbconvert_exporter": "python",
   "pygments_lexer": "ipython3",
   "version": "3.10.0"
  }
 },
 "nbformat": 4,
 "nbformat_minor": 5
}
