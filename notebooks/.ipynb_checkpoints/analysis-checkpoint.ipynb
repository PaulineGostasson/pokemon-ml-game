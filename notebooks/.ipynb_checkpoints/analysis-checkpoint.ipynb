{
 "cells": [
  {
   "cell_type": "code",
   "execution_count": null,
   "id": "8eac7485-2ce8-406b-9edb-30188e8be00f",
   "metadata": {},
   "outputs": [],
   "source": [
    "import pandas as pd\n",
    "\n",
    "df = pd.read_csv(\"../data/Pokemon.csv\")\n",
    "df.head()"
   ]
  },
  {
   "cell_type": "code",
   "execution_count": null,
   "id": "559d387e-a23a-4551-8aa5-fd02ae60aba3",
   "metadata": {},
   "outputs": [],
   "source": [
    "# Ta bort Mega-former (Jag vill bara ha vanliga Pokémon)\n",
    "df = df[~df[\"Name\"].str.contains(\"Mega\", na=False)]\n",
    "\n",
    "# Ta bort rader med saknade värden\n",
    "df = df.dropna(subset=[\"Type 1\", \"HP\", \"Attack\", \"Defense\", \"Speed\"])\n",
    "\n",
    "df.shape  # Visa antal rader och kolumner"
   ]
  },
  {
   "cell_type": "code",
   "execution_count": null,
   "id": "3aad9f8a-0eec-488c-9ee0-dc9b3c5bb679",
   "metadata": {},
   "outputs": [],
   "source": [
    "df.info()"
   ]
  },
  {
   "cell_type": "code",
   "execution_count": null,
   "id": "f8138c45-9308-4981-abf4-d41ddb27ade1",
   "metadata": {},
   "outputs": [],
   "source": [
    "from sklearn.model_selection import train_test_split\n",
    "from sklearn.preprocessing import MinMaxScaler\n",
    "from sklearn.ensemble import GradientBoostingClassifier\n",
    "from sklearn.metrics import accuracy_score, classification_report\n",
    "from sklearn.model_selection import cross_val_score\n",
    "from sklearn.metrics import confusion_matrix, ConfusionMatrixDisplay\n",
    "import matplotlib.pyplot as plt\n",
    "import numpy as np\n",
    "import pickle\n",
    "import os"
   ]
  },
  {
   "cell_type": "code",
   "execution_count": null,
   "id": "fd4ae34c-283b-4eaa-8153-3fbd3d08fa47",
   "metadata": {},
   "outputs": [],
   "source": [
    "matches = []\n",
    "labels = []\n",
    "\n",
    "for _ in rang(5000):\n",
    "    p1 = df.sample(1).iloc[0]\n",
    "    p2 = df.sample(1).iloc[0]\n",
    "\n",
    "    stats1 = [p1[\"HP\"], p1[\"Attack\"], p1[\"Defense\"], p1[\"Sp. Atk\"], p1[\"Sp. Def\"], p1[\"Speed\"]]\n",
    "    stats2 = [p2[\"HP\"], p2[\"Attack\"], p2[\"Defense\"], p2[\"Sp. Atk\"], p2[\"Sp. Def\"], p2[\"Speed\"]]\n",
    "\n",
    "\n",
    "    matches.append(stats1 + stats2) # kombinerar statsen för båda Pokémon\n",
    "    labels.append(0 if sum(stats1) > sum(stats2) else 1) # 0 = p1 vinner, 1 = p2 vinner"
   ]
  },
  {
   "cell_type": "code",
   "execution_count": null,
   "id": "7ea9d38c-b1f1-4f75-8253-c44e4cc585b6",
   "metadata": {},
   "outputs": [],
   "source": [
    "x = np.array(matches)\n",
    "y = np.array(labels)\n",
    "\n",
    "# Normalisera värden\n",
    "scaler = MinMaxScaler()\n",
    "x_scaled = scaler.fit_transform(x)\n",
    "\n",
    "# Dela upp data i träning/test\n",
    "x_train, x_test, y_train, y_test = train_test_split(x, y, test_size=0.2, random_state=42)\n",
    "\n",
    "# Träning av modellen\n",
    "model = GradientBoostingClassifier(\n",
    "    n_estimators=300,\n",
    "    learning_rate=0.05,\n",
    "    max_depth=4,\n",
    "    random_state=42\n",
    ")\n",
    "model.fit(x_train, y_train)\n",
    "\n",
    "y_pred = model.predict(x_test)\n",
    "accuracy = accuracy_score(y_test, y_pred)\n",
    "print(f\"Model accuracy: {accuracy: .2f}\")\n",
    "\n",
    "# Skriv ut en rapport\n",
    "print(\"\\nClassification Report:\")\n",
    "print(classification_report(y_test, y_pred))"
   ]
  },
  {
   "cell_type": "code",
   "execution_count": null,
   "id": "dd53735e-7d84-4e68-aff2-fce7051b8c4e",
   "metadata": {},
   "outputs": [],
   "source": [
    "# Cross-validation\n",
    "cv_scores = cross_val_score(model, x_scaled, y, cv=5)\n",
    "print(f\"Cross-validation accuracy: {cv_scores.mean():.2f} (+/- {cv_scores.std():.2f})\")\n",
    "\n",
    "# Träna modellen igen\n",
    "model.fit(x_scaled, y)\n",
    "y_pred = model.predict(x_scaled)\n",
    "\n",
    "# Confusion Matrix\n",
    "cm = confusion_matrix(y, y_pred)\n",
    "disp = ConfusionMatrixDisplay(confusion_matrix=cm, display_labels=[\"Player 1 wins\", \"Player 2 wins\"])\n",
    "disp.plot(cmap=plt.cm.Blues)\n",
    "plt.title(\"Confusion Matrix\")\n",
    "plt.show()"
   ]
  },
  {
   "cell_type": "code",
   "execution_count": null,
   "id": "cbea18aa-e86a-49da-a2a9-5a22d9693154",
   "metadata": {},
   "outputs": [],
   "source": [
    "os.makedirs(\"data\", exist_ok=True)\n",
    "\n",
    "# Spara modellen som .pkl\n",
    "with open(\"data/model.pkl\", \"wb\") as f:\n",
    "    pickle.dump(model, f)\n",
    "\n",
    "print(\"Model saved to data/model.pkl\")"
   ]
  }
 ],
 "metadata": {
  "kernelspec": {
   "display_name": "Python 3 (ipykernel)",
   "language": "python",
   "name": "python3"
  },
  "language_info": {
   "codemirror_mode": {
    "name": "ipython",
    "version": 3
   },
   "file_extension": ".py",
   "mimetype": "text/x-python",
   "name": "python",
   "nbconvert_exporter": "python",
   "pygments_lexer": "ipython3",
   "version": "3.10.0"
  }
 },
 "nbformat": 4,
 "nbformat_minor": 5
}
